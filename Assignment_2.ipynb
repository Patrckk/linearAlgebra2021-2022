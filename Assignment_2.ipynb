{
  "nbformat": 4,
  "nbformat_minor": 0,
  "metadata": {
    "colab": {
      "name": "Assignment 2",
      "provenance": [],
      "collapsed_sections": [],
      "authorship_tag": "ABX9TyPWQ/h9Q4ThlXsgGRj2DtiS",
      "include_colab_link": true
    },
    "kernelspec": {
      "name": "python3",
      "display_name": "Python 3"
    },
    "language_info": {
      "name": "python"
    }
  },
  "cells": [
    {
      "cell_type": "markdown",
      "metadata": {
        "id": "view-in-github",
        "colab_type": "text"
      },
      "source": [
        "<a href=\"https://colab.research.google.com/github/Patrckk/linearAlgebra2021-2022/blob/main/Assignment_2.ipynb\" target=\"_parent\"><img src=\"https://colab.research.google.com/assets/colab-badge.svg\" alt=\"Open In Colab\"/></a>"
      ]
    },
    {
      "cell_type": "code",
      "metadata": {
        "id": "SVqPN2c0hFIq"
      },
      "source": [
        ""
      ],
      "execution_count": null,
      "outputs": []
    },
    {
      "cell_type": "markdown",
      "metadata": {
        "id": "aL9HrXnYhNra"
      },
      "source": [
        "#Welcome to Python Fundamentals\n",
        "\n",
        "In this going module, we are going to establish our skills in Python Programing. in this notebook we are going to cover:\n",
        "\n",
        "\n",
        "*   Variable and Data Types\n",
        "*   Operation\n",
        "\n",
        "*   Input and Output Operation\n",
        "*   Logic Control\n",
        "\n",
        "*   Interables\n",
        "*   Functions\n",
        "\n",
        "#Variables and Data types\n",
        "\n",
        "\n",
        "\n",
        "\n",
        "\n",
        "\n"
      ]
    },
    {
      "cell_type": "code",
      "metadata": {
        "id": "ZyY2MpSHmfNs"
      },
      "source": [
        " x = 1\n",
        "a, b = 3, -2"
      ],
      "execution_count": 10,
      "outputs": []
    },
    {
      "cell_type": "code",
      "metadata": {
        "colab": {
          "base_uri": "https://localhost:8080/"
        },
        "id": "677BNZkEo4Yv",
        "outputId": "49ae9d5b-fc36-442a-99c7-733fb792b1f3"
      },
      "source": [
        "type (x)\n",
        "int "
      ],
      "execution_count": 9,
      "outputs": [
        {
          "output_type": "execute_result",
          "data": {
            "text/plain": [
              "int"
            ]
          },
          "metadata": {},
          "execution_count": 9
        }
      ]
    },
    {
      "cell_type": "code",
      "metadata": {
        "colab": {
          "base_uri": "https://localhost:8080/"
        },
        "id": "k045MltwqBdY",
        "outputId": "e8ceb996-d901-48cb-f396-e93c7ffadf16"
      },
      "source": [
        "y = 3.0\n",
        "type (y) "
      ],
      "execution_count": 11,
      "outputs": [
        {
          "output_type": "execute_result",
          "data": {
            "text/plain": [
              "float"
            ]
          },
          "metadata": {},
          "execution_count": 11
        }
      ]
    },
    {
      "cell_type": "code",
      "metadata": {
        "colab": {
          "base_uri": "https://localhost:8080/"
        },
        "id": "sHtGnFOmqONg",
        "outputId": "8451e94e-f2d7-4569-c4d2-cb897cc16882"
      },
      "source": [
        "x = float(x)\n",
        "type(x)\n",
        "x"
      ],
      "execution_count": 12,
      "outputs": [
        {
          "output_type": "execute_result",
          "data": {
            "text/plain": [
              "1.0"
            ]
          },
          "metadata": {},
          "execution_count": 12
        }
      ]
    },
    {
      "cell_type": "code",
      "metadata": {
        "colab": {
          "base_uri": "https://localhost:8080/"
        },
        "id": "z1xjcXZFqgVL",
        "outputId": "d3342653-8a20-4493-c94f-19ab12c99a07"
      },
      "source": [
        "s, t, u = \"1\",'3', 'three'\n",
        "type(u)"
      ],
      "execution_count": 13,
      "outputs": [
        {
          "output_type": "execute_result",
          "data": {
            "text/plain": [
              "str"
            ]
          },
          "metadata": {},
          "execution_count": 13
        }
      ]
    },
    {
      "cell_type": "markdown",
      "metadata": {
        "id": "xNDItmZhrUqL"
      },
      "source": [
        "#Operations\n",
        "\n",
        "#Arithmetic"
      ]
    },
    {
      "cell_type": "code",
      "metadata": {
        "id": "9zKVeUXcrreK"
      },
      "source": [
        "w, x, y, z = 4.0, -3.0, 2, -32"
      ],
      "execution_count": 17,
      "outputs": []
    },
    {
      "cell_type": "code",
      "metadata": {
        "id": "DOUMFD8WrQJh"
      },
      "source": [
        "### Addition\n",
        "S = w + x"
      ],
      "execution_count": 18,
      "outputs": []
    },
    {
      "cell_type": "code",
      "metadata": {
        "id": "w9PaQ900sZXz"
      },
      "source": [
        "### Subtraction \n",
        "D = y - z"
      ],
      "execution_count": 19,
      "outputs": []
    },
    {
      "cell_type": "code",
      "metadata": {
        "id": "zNvhp5qyslL4"
      },
      "source": [
        "### Multiplication\n",
        "P = w*z"
      ],
      "execution_count": 20,
      "outputs": []
    },
    {
      "cell_type": "code",
      "metadata": {
        "colab": {
          "base_uri": "https://localhost:8080/"
        },
        "id": "0TMmDtfws7j6",
        "outputId": "00cd52e1-82ca-4899-826c-af558c34e52c"
      },
      "source": [
        "### Division\n",
        "Q = y/x\n",
        "Q"
      ],
      "execution_count": 15,
      "outputs": [
        {
          "output_type": "execute_result",
          "data": {
            "text/plain": [
              "3.0"
            ]
          },
          "metadata": {},
          "execution_count": 15
        }
      ]
    },
    {
      "cell_type": "code",
      "metadata": {
        "colab": {
          "base_uri": "https://localhost:8080/"
        },
        "id": "QjlcB9dltkuz",
        "outputId": "02997e67-fbb8-47f8-c447-2d4624c0bd91"
      },
      "source": [
        "### Floor Division\n",
        "Qf = w//z\n",
        "Qf"
      ],
      "execution_count": 21,
      "outputs": [
        {
          "output_type": "execute_result",
          "data": {
            "text/plain": [
              "-1.0"
            ]
          },
          "metadata": {},
          "execution_count": 21
        }
      ]
    },
    {
      "cell_type": "code",
      "metadata": {
        "colab": {
          "base_uri": "https://localhost:8080/"
        },
        "id": "FzftrQmPu1Cd",
        "outputId": "646c553e-6ae0-48e3-ef5e-102a3f657099"
      },
      "source": [
        "### Exponentation \n",
        "E = w**w\n",
        "E"
      ],
      "execution_count": 22,
      "outputs": [
        {
          "output_type": "execute_result",
          "data": {
            "text/plain": [
              "256.0"
            ]
          },
          "metadata": {},
          "execution_count": 22
        }
      ]
    },
    {
      "cell_type": "code",
      "metadata": {
        "colab": {
          "base_uri": "https://localhost:8080/"
        },
        "id": "qvsuD2dIvDkZ",
        "outputId": "7330fe4f-d96e-47d0-e5f2-5bd624ee56e7"
      },
      "source": [
        "### Modulo\n",
        "mod = z%x\n",
        "mod"
      ],
      "execution_count": 23,
      "outputs": [
        {
          "output_type": "execute_result",
          "data": {
            "text/plain": [
              "-2.0"
            ]
          },
          "metadata": {},
          "execution_count": 23
        }
      ]
    },
    {
      "cell_type": "markdown",
      "metadata": {
        "id": "9QnOMFerviCE"
      },
      "source": [
        "#Assignment Operations"
      ]
    },
    {
      "cell_type": "code",
      "metadata": {
        "id": "QaFCAHQ2v8qe"
      },
      "source": [
        "A, B, C, D, E = 0, 100, 2, 1, 2"
      ],
      "execution_count": 34,
      "outputs": []
    },
    {
      "cell_type": "code",
      "metadata": {
        "colab": {
          "base_uri": "https://localhost:8080/"
        },
        "id": "yTsEQfiAwQU8",
        "outputId": "db75da01-e23e-4eb8-de1b-67c2cd260176"
      },
      "source": [
        "A += w\n",
        "A"
      ],
      "execution_count": 33,
      "outputs": [
        {
          "output_type": "execute_result",
          "data": {
            "text/plain": [
              "8.0"
            ]
          },
          "metadata": {},
          "execution_count": 33
        }
      ]
    },
    {
      "cell_type": "code",
      "metadata": {
        "id": "Sa9X1W9ExjP0"
      },
      "source": [
        "B -= x\n",
        "B"
      ],
      "execution_count": null,
      "outputs": []
    },
    {
      "cell_type": "code",
      "metadata": {
        "colab": {
          "base_uri": "https://localhost:8080/"
        },
        "id": "I27-lmuaxnnM",
        "outputId": "1b10860e-d5c5-4480-8dc4-2a168e7a14e3"
      },
      "source": [
        "C *= w\n",
        "C"
      ],
      "execution_count": 29,
      "outputs": [
        {
          "output_type": "execute_result",
          "data": {
            "text/plain": [
              "8.0"
            ]
          },
          "metadata": {},
          "execution_count": 29
        }
      ]
    },
    {
      "cell_type": "code",
      "metadata": {
        "id": "hORhz39dx7OS"
      },
      "source": [
        "D /= x\n",
        "D"
      ],
      "execution_count": null,
      "outputs": []
    },
    {
      "cell_type": "code",
      "metadata": {
        "id": "oJF2P5TbyJp0"
      },
      "source": [
        "E **=y\n",
        "E"
      ],
      "execution_count": null,
      "outputs": []
    },
    {
      "cell_type": "markdown",
      "metadata": {
        "id": "64SJpoteyx60"
      },
      "source": [
        "#Comparators"
      ]
    },
    {
      "cell_type": "code",
      "metadata": {
        "id": "NQoPhUZn0CkT"
      },
      "source": [
        "size_1, size_2, size_3, = 1, 2.0,'1'\n",
        "true_size = 1.0"
      ],
      "execution_count": 36,
      "outputs": []
    },
    {
      "cell_type": "code",
      "metadata": {
        "colab": {
          "base_uri": "https://localhost:8080/"
        },
        "id": "6UNwej5H0UwF",
        "outputId": "b665641e-8d98-4e18-8e10-de6e2ea8c4b4"
      },
      "source": [
        "## Equality\n",
        "size_1 == true_size"
      ],
      "execution_count": 37,
      "outputs": [
        {
          "output_type": "execute_result",
          "data": {
            "text/plain": [
              "True"
            ]
          },
          "metadata": {},
          "execution_count": 37
        }
      ]
    },
    {
      "cell_type": "code",
      "metadata": {
        "id": "sbjGwxDM013D"
      },
      "source": [
        "## Non - Equality \n",
        "size_2 != true_size"
      ],
      "execution_count": null,
      "outputs": []
    },
    {
      "cell_type": "code",
      "metadata": {
        "id": "whxvcKjd1krf"
      },
      "source": [
        "##Ienquality\n",
        "s1 = size_1 > size_2\n",
        "s2 = size_1 < size_2/2\n",
        "s3 = true_size >= size_1\n",
        "s4 = size_2 <= true_size"
      ],
      "execution_count": 39,
      "outputs": []
    },
    {
      "cell_type": "markdown",
      "metadata": {
        "id": "hy9u9KFG28_a"
      },
      "source": [
        "#Logical"
      ]
    },
    {
      "cell_type": "code",
      "metadata": {
        "id": "7ZjRb8033Arr"
      },
      "source": [
        "size_1 == true_size"
      ],
      "execution_count": null,
      "outputs": []
    },
    {
      "cell_type": "code",
      "metadata": {
        "id": "Gpz6_jvgFxx1"
      },
      "source": [
        "size_1 is true_size"
      ],
      "execution_count": null,
      "outputs": []
    },
    {
      "cell_type": "code",
      "metadata": {
        "id": "Y2IGyvo_F4TF"
      },
      "source": [
        "size_1 is not true_size"
      ],
      "execution_count": null,
      "outputs": []
    },
    {
      "cell_type": "code",
      "metadata": {
        "id": "c-0jlJ_ZGAlr"
      },
      "source": [
        "P, Q = True, False\n",
        "conj = P and Q\n",
        "conj"
      ],
      "execution_count": null,
      "outputs": []
    },
    {
      "cell_type": "code",
      "metadata": {
        "id": "q9Ptft5XGY86"
      },
      "source": [
        "disj = P and Q\n",
        "disj"
      ],
      "execution_count": null,
      "outputs": []
    },
    {
      "cell_type": "code",
      "metadata": {
        "id": "NEzVISqaGkpc"
      },
      "source": [
        "nand = not (P and Q)\n",
        "nand"
      ],
      "execution_count": null,
      "outputs": []
    },
    {
      "cell_type": "code",
      "metadata": {
        "id": "Q4eNbVi8GxWK"
      },
      "source": [
        "xor = (not P and Q) or (P and not Q)\n",
        "xor"
      ],
      "execution_count": null,
      "outputs": []
    },
    {
      "cell_type": "markdown",
      "metadata": {
        "id": "fmCCxqVBHcha"
      },
      "source": [
        "#Input and Output"
      ]
    },
    {
      "cell_type": "code",
      "metadata": {
        "colab": {
          "base_uri": "https://localhost:8080/"
        },
        "id": "bXn7VFnEHmju",
        "outputId": "c798ad99-8236-4c00-d407-dc0d6e439f77"
      },
      "source": [
        "print(\"hello world!\")"
      ],
      "execution_count": 53,
      "outputs": [
        {
          "output_type": "stream",
          "name": "stdout",
          "text": [
            "hello world!\n"
          ]
        }
      ]
    },
    {
      "cell_type": "code",
      "metadata": {
        "id": "AI9ZYn3cHw4W"
      },
      "source": [
        "cnt =14000"
      ],
      "execution_count": 61,
      "outputs": []
    },
    {
      "cell_type": "code",
      "metadata": {
        "colab": {
          "base_uri": "https://localhost:8080/"
        },
        "id": "Y2EkCeZkH1Mw",
        "outputId": "472f0352-7ec3-4e25-9883-a35615fe75d2"
      },
      "source": [
        "string = \"hello world!\"\n",
        "print(string, \", current COVID count is:\", cnt)\n",
        "cnt += 1000"
      ],
      "execution_count": 62,
      "outputs": [
        {
          "output_type": "stream",
          "name": "stdout",
          "text": [
            "hello world! , current COVID count is: 14000\n"
          ]
        }
      ]
    },
    {
      "cell_type": "code",
      "metadata": {
        "colab": {
          "base_uri": "https://localhost:8080/"
        },
        "id": "oTFsmRQnLB5n",
        "outputId": "30a36b84-9e46-4860-ff31-fd89f8a746b9"
      },
      "source": [
        "print(f\"{string}, current count is: {cnt}\")"
      ],
      "execution_count": 63,
      "outputs": [
        {
          "output_type": "stream",
          "name": "stdout",
          "text": [
            "hello world!, current count is: 15000\n"
          ]
        }
      ]
    },
    {
      "cell_type": "code",
      "metadata": {
        "colab": {
          "base_uri": "https://localhost:8080/"
        },
        "id": "r71TjQHkLuWz",
        "outputId": "ba020942-989c-4575-f413-cd09f28b7b96"
      },
      "source": [
        "sem_grade = 86.25\n",
        "name =\"Patrick\"\n",
        "print(\"Hello{}, your semestral grade is :{}\" . format (name, sem_grade))"
      ],
      "execution_count": 68,
      "outputs": [
        {
          "output_type": "stream",
          "name": "stdout",
          "text": [
            "HelloPatrick, your semestral grade is :86.25\n"
          ]
        }
      ]
    },
    {
      "cell_type": "code",
      "metadata": {
        "colab": {
          "base_uri": "https://localhost:8080/"
        },
        "id": "GIjeuOBkMyDW",
        "outputId": "4879c0c4-092d-4f5f-88c5-3b1d814f721d"
      },
      "source": [
        "pg, mg, fg = 0.3, 0.3, 0.4\n",
        "print(\"The weights of your semestral grades are:\\\n",
        "\\n\\t {:.2%} for Prelims\\\n",
        "\\n\\t {:.2%} for Midterms, and\\\n",
        "\\n\\t {:.2%} for Finals.\".format(pg, mg, fg))"
      ],
      "execution_count": 70,
      "outputs": [
        {
          "output_type": "stream",
          "name": "stdout",
          "text": [
            "The weights of your semestral grades are:\n",
            "\t 30.00% for Prelims\n",
            "\t 30.00% for Midterms, and\n",
            "\t 40.00% for Finals.\n"
          ]
        }
      ]
    },
    {
      "cell_type": "code",
      "metadata": {
        "id": "ADoNdxrbQd6x"
      },
      "source": [
        "e = input(\"Enter a number:\")"
      ],
      "execution_count": null,
      "outputs": []
    },
    {
      "cell_type": "code",
      "metadata": {
        "colab": {
          "base_uri": "https://localhost:8080/"
        },
        "id": "Gc8Dy2kbRTUc",
        "outputId": "9196da40-ca59-4f54-df3c-1ad492b9dcc3"
      },
      "source": [
        "name = input(\"Enter your name: \")\n",
        "pg = input(\"Enter Prelim grade: \")\n",
        "mg = input(\"Enter Midterm grade: \")\n",
        "fg = input(\"Enter Finals grade: \")\n",
        "sem_grade = None\n",
        "print(\"Hello {}, your semestral grade is: {}\".format(name, sem_grade))"
      ],
      "execution_count": 77,
      "outputs": [
        {
          "output_type": "stream",
          "name": "stdout",
          "text": [
            "Enter your name: Patrick\n",
            "Enter Prelim grade: 21\n",
            "Enter Midterm grade: 21\n",
            "Enter Finals grade: 1\n",
            "Hello Patrick, your semestral grade is: None\n"
          ]
        }
      ]
    },
    {
      "cell_type": "code",
      "metadata": {
        "colab": {
          "base_uri": "https://localhost:8080/"
        },
        "id": "AW5hLiFrdNdl",
        "outputId": "0db7a63d-05e0-4a68-d15d-163013303f75"
      },
      "source": [
        "## while Loops\n",
        "i, j = 0 ,10\n",
        "while(i<=j):\n",
        "  print(f\"{i}\\t|\\t{j}\")\n",
        "  i += 1"
      ],
      "execution_count": 78,
      "outputs": [
        {
          "output_type": "stream",
          "name": "stdout",
          "text": [
            "0\t|\t10\n",
            "1\t|\t10\n",
            "2\t|\t10\n",
            "3\t|\t10\n",
            "4\t|\t10\n",
            "5\t|\t10\n",
            "6\t|\t10\n",
            "7\t|\t10\n",
            "8\t|\t10\n",
            "9\t|\t10\n",
            "10\t|\t10\n"
          ]
        }
      ]
    },
    {
      "cell_type": "code",
      "metadata": {
        "id": "3fKwAmFjdx1d"
      },
      "source": [
        ""
      ],
      "execution_count": null,
      "outputs": []
    },
    {
      "cell_type": "markdown",
      "metadata": {
        "id": "_c1tvK4udz0O"
      },
      "source": [
        "#For"
      ]
    },
    {
      "cell_type": "code",
      "metadata": {
        "colab": {
          "base_uri": "https://localhost:8080/"
        },
        "id": "S3soUC71d20G",
        "outputId": "9b1aae16-73eb-4570-d5e8-6edbadada5cd"
      },
      "source": [
        "# for(int = 0); i<10; i++){\n",
        "# printf(i)\n",
        "# }\n",
        "i = 0\n",
        "for i in range(11):\n",
        "  print(i)"
      ],
      "execution_count": 79,
      "outputs": [
        {
          "output_type": "stream",
          "name": "stdout",
          "text": [
            "0\n",
            "1\n",
            "2\n",
            "3\n",
            "4\n",
            "5\n",
            "6\n",
            "7\n",
            "8\n",
            "9\n",
            "10\n"
          ]
        }
      ]
    },
    {
      "cell_type": "code",
      "metadata": {
        "colab": {
          "base_uri": "https://localhost:8080/"
        },
        "id": "CefOzobDeiwz",
        "outputId": "00d70c54-0e6a-458a-f38f-519e1299cdeb"
      },
      "source": [
        "playlist = [\"Bahay kubo\", \"Magandang kanta\", \"Buko\"]\n",
        "print('Now Playing:\\n')\n",
        "for song in playlist:\n",
        "  print(song)"
      ],
      "execution_count": 80,
      "outputs": [
        {
          "output_type": "stream",
          "name": "stdout",
          "text": [
            "Now Playing:\n",
            "\n",
            "Bahay kubo\n",
            "Magandang kanta\n",
            "Buko\n"
          ]
        }
      ]
    },
    {
      "cell_type": "code",
      "metadata": {
        "colab": {
          "base_uri": "https://localhost:8080/"
        },
        "id": "r59im-KHfzAQ",
        "outputId": "bb095d20-a94d-4880-9d60-45bab3f5f336"
      },
      "source": [
        "num_1, num_2 = 14, 12\n",
        "if(num_1 == num_2):\n",
        "  print(\"HAHA\")\n",
        "elif(num_1>num_2):\n",
        "    print(\"HOHO\")\n",
        "else:\n",
        "    print(\"HUHU\")"
      ],
      "execution_count": 83,
      "outputs": [
        {
          "output_type": "stream",
          "name": "stdout",
          "text": [
            "HOHO\n"
          ]
        }
      ]
    },
    {
      "cell_type": "code",
      "metadata": {
        "id": "YvMOCjOohNnD"
      },
      "source": [
        "# valid DeLeteUser (int userid){\n",
        "# delete(userid);\n",
        "#}\n",
        "\n",
        "def delete_user (userid):\n",
        "  print(\"Succsessfully deleted user {}\". format(userid))"
      ],
      "execution_count": 86,
      "outputs": []
    },
    {
      "cell_type": "code",
      "metadata": {
        "colab": {
          "base_uri": "https://localhost:8080/"
        },
        "id": "PLrdnczqiPBq",
        "outputId": "31de5ec9-ebde-4b89-e0d7-59a2dd81f327"
      },
      "source": [
        "userid = 2020_100100\n",
        "delete_user(2020_100100)"
      ],
      "execution_count": 87,
      "outputs": [
        {
          "output_type": "stream",
          "name": "stdout",
          "text": [
            "Succsessfully deleted user 2020100100\n"
          ]
        }
      ]
    },
    {
      "cell_type": "code",
      "metadata": {
        "id": "MUobPCt3iwcU"
      },
      "source": [
        "added1, added2 =5, 6"
      ],
      "execution_count": 88,
      "outputs": []
    },
    {
      "cell_type": "code",
      "metadata": {
        "id": "wD99EFJri_CO"
      },
      "source": [
        "def add(added1, added2):\n",
        "  sum = added1 + added2\n",
        "  return sum"
      ],
      "execution_count": 89,
      "outputs": []
    },
    {
      "cell_type": "code",
      "metadata": {
        "colab": {
          "base_uri": "https://localhost:8080/"
        },
        "id": "mGESHOlFjR0A",
        "outputId": "417dba43-73c8-450d-f46a-32e94d73130e"
      },
      "source": [
        "add(5, 4)"
      ],
      "execution_count": 90,
      "outputs": [
        {
          "output_type": "execute_result",
          "data": {
            "text/plain": [
              "9"
            ]
          },
          "metadata": {},
          "execution_count": 90
        }
      ]
    }
  ]
}